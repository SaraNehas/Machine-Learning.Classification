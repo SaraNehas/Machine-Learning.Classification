{
 "cells": [
  {
   "cell_type": "code",
   "execution_count": 20,
   "metadata": {},
   "outputs": [],
   "source": [
    "import pandas as pd\n",
    "import numpy as np\n",
    "from sklearn_pandas import DataFrameMapper\n",
    "from sklearn.feature_extraction.text import CountVectorizer\n",
    "from sklearn.svm import SVC\n",
    "# from sklearn.model_selection import train_test_split\n",
    "# from sklearn.linear_model import LogisticRegression\n",
    "# from sklearn.neighbors import KNeighborsClassifier\n",
    "# from sklearn.naive_bayes import GaussianNB"
   ]
  },
  {
   "cell_type": "code",
   "execution_count": 2,
   "metadata": {},
   "outputs": [],
   "source": [
    "dict_sex={'Male':0,'Female':1}\n",
    "\n",
    "# Single = 0 / In current relationship = 1\n",
    "dict_status={'Never-married':0, 'Married-civ-spouse':1, 'Divorced':0,\n",
    "       'Married-spouse-absent':1, 'Separated':0, 'Married-AF-spouse':1,\n",
    "       'Widowed':0}\n",
    "\n",
    "dict_region={'United-States':'NorthAmerica', 'Cuba':'SouthAmerica', 'Jamaica':'SouthAmerica', 'India':'Asia',\n",
    "'Mexico':'SouthAmerica','South':'Asia', 'Puerto-Rico':'SouthAmerica', \n",
    "'Honduras':'SouthAmerica', 'England':'Europe', 'Canada':'NorthAmerica', \n",
    "'Germany':'Europe','Iran':'Asia', 'Philippines':'Asia', 'Italy':'Europe',\n",
    "'Poland':'Europe', 'Columbia':'SouthAmerica','Cambodia':'Asia',\n",
    "'Thailand':'Asia', 'Ecuador':'SouthAmerica', 'Laos':'Asia', 'Taiwan':'Asia', \n",
    "'Haiti':'SouthAmerica','Portugal':'Europe','Dominican-Republic':'SouthAmerica',\n",
    "'El-Salvador':'SouthAmerica', 'France':'Europe', 'Guatemala':'SouthAmerica',\n",
    "'China':'Asia', 'Japan':'Asia', 'Yugoslavia':'Europe', 'Peru':'SouthAmerica',\n",
    "'Outlying-US(Guam-USVI-etc)':'NorthAmerica', 'Scotland':'Europe', 'Trinadad&Tobago':'SouthAmerica',\n",
    "'Greece':'Europe', 'Nicaragua':'SouthAmerica', 'Vietnam':'Asia', 'Hong':'Asia', 'Ireland':'Europe', \n",
    "'Hungary':'Europe','Holand-Netherlands':'Europe'}\n",
    "\n",
    "# Working for government =1 / working in private or not-working =0\n",
    "dict_workclass={'State-gov':1, 'Self-emp-not-inc':0, 'Private':0, 'Federal-gov':1,\n",
    "'Local-gov':1, 'Self-emp-inc':0, 'Without-pay':0,'Never-worked':0}\n"
   ]
  },
  {
   "cell_type": "code",
   "execution_count": 17,
   "metadata": {
    "scrolled": true
   },
   "outputs": [],
   "source": [
    "## Train/test sets\n",
    "df = pd.read_csv('Training_census_data.csv',index_col=False)\n",
    "df_train=df.copy()\n",
    "\n",
    "df_train.replace('?',np.nan,inplace=True)\n",
    "df_train.sex.replace(dict_sex,inplace=True)\n",
    "df_train.marital_status.replace(dict_status,inplace=True)\n",
    "df_train.native_country.replace(dict_region,inplace=True)\n",
    "df_train.workclass.replace(dict_workclass,inplace=True)\n",
    "df_train.income.replace({'<=50K':0,'>50K':1},inplace=True)\n",
    "\n",
    "\n",
    "df_train.loc[(df_train.Age>=df_train.Age.min()) & (df_train.Age< 25), 'Age_range'] = 'Young' \n",
    "df_train.loc[(df_train.Age>=25) & (df_train.Age< 40), 'Age_range'] = 'Adult1'\n",
    "df_train.loc[(df_train.Age>=40) & (df_train.Age< 65), 'Age_range'] = 'Adult2'\n",
    "df_train.loc[(df_train.Age>=65) & (df_train.Age< df_train.Age.max()), 'Age_range'] = 'Senior'\n",
    " \n",
    "df_train.loc[(df_train.hours_per_week<df_train.hours_per_week.median()), 'hours_range'] = 0 \n",
    "df_train.loc[(df_train.hours_per_week>=df_train.hours_per_week.median()), 'hours_range'] = 1\n",
    "\n",
    "df_train=df_train.dropna().reset_index(drop=True)\n",
    "\n",
    "mapper_df = DataFrameMapper([('occupation', CountVectorizer(token_pattern=r\"[\\w\\b-]+\")),\n",
    "                            ('race', CountVectorizer(token_pattern=r\"[\\w\\b-]+\")),\n",
    "                            ('native_country', CountVectorizer()),\n",
    "                            ('Age_range', CountVectorizer())], df_out=True)\n",
    "df_vectorized=mapper_df.fit_transform(df_train.copy())\n",
    "\n",
    "\n",
    "X = df_train[['workclass','education_num','marital_status','sex',\n",
    "                     'capital_gain','capital_loss','hours_range']].join(df_vectorized)\n",
    "\n",
    "y=df_train['income']\n",
    "\n",
    "# X_train, X_test, y_train, y_test = train_test_split(X, y, random_state=0)\n",
    "\n",
    "clf = SVC(C=0.2, gamma=0.1,random_state=0).fit(X, y)"
   ]
  },
  {
   "cell_type": "code",
   "execution_count": 33,
   "metadata": {},
   "outputs": [],
   "source": [
    "# clf = LogisticRegression(C=0.2, solver='liblinear',random_state=0).fit(X_train, y_train)\n",
    "# clf.score(X_test, y_test) #0.845\n",
    "\n",
    "# clf = KNeighborsClassifier(n_neighbors=5).fit(X_train, y_train)\n",
    "# clf.score(X_test, y_test) #0.84\n",
    "\n",
    "# clf = GaussianNB().fit(X_train, y_train)\n",
    "# clf.score(X_test, y_test) #0.82"
   ]
  },
  {
   "cell_type": "code",
   "execution_count": 19,
   "metadata": {},
   "outputs": [
    {
     "data": {
      "text/plain": [
       "0.8611867898199216"
      ]
     },
     "execution_count": 19,
     "metadata": {},
     "output_type": "execute_result"
    }
   ],
   "source": [
    "# To predict set\n",
    "df_pred = pd.read_csv('Predicted_census_data.csv',index_col=False)\n",
    "\n",
    "df_pred.replace('?',np.nan,inplace=True)\n",
    "df_pred.sex.replace(dict_sex,inplace=True)\n",
    "df_pred.marital_status.replace(dict_status,inplace=True)\n",
    "df_pred.native_country.replace(dict_region,inplace=True)\n",
    "df_pred.workclass.replace(dict_workclass,inplace=True)\n",
    "df_pred.income.replace({'<=50K.':0,'>50K.':1},inplace=True)\n",
    "\n",
    "\n",
    "df_pred.loc[(df_pred.Age>=df_pred.Age.min()) & (df_pred.Age< 25), 'Age_range'] = 'Young' \n",
    "df_pred.loc[(df_pred.Age>=25) & (df_pred.Age< 40), 'Age_range'] = 'Adult1'\n",
    "df_pred.loc[(df_pred.Age>=40) & (df_pred.Age< 65), 'Age_range'] = 'Adult2'\n",
    "df_pred.loc[(df_pred.Age>=65) & (df_pred.Age< df_pred.Age.max()), 'Age_range'] = 'Senior'\n",
    " \n",
    "df_pred.loc[(df_pred.hours_per_week<df_pred.hours_per_week.median()), 'hours_range'] = 0 \n",
    "df_pred.loc[(df_pred.hours_per_week>=df_pred.hours_per_week.median()), 'hours_range'] = 1\n",
    "\n",
    "df_pred=df_pred.dropna().reset_index(drop=True)\n",
    "\n",
    "mapper_dfp = DataFrameMapper([('occupation', CountVectorizer(token_pattern=r\"[\\w\\b-]+\")),\n",
    "                            ('race', CountVectorizer(token_pattern=r\"[\\w\\b-]+\")),\n",
    "                            ('native_country', CountVectorizer()),\n",
    "                            ('Age_range', CountVectorizer())], df_out=True)\n",
    "df_vectorizedp=mapper_df.fit_transform(df_pred.copy())\n",
    "\n",
    "\n",
    "X_pred = df_pred[['workclass','education_num','marital_status','sex',\n",
    "                     'capital_gain','capital_loss','hours_range']].join(df_vectorizedp)\n",
    "\n",
    "y_pred=df_pred['income']\n",
    "\n",
    "clf.score(X_pred, y_pred) \n"
   ]
  }
 ],
 "metadata": {
  "kernelspec": {
   "display_name": "Python 3",
   "language": "python",
   "name": "python3"
  },
  "language_info": {
   "codemirror_mode": {
    "name": "ipython",
    "version": 3
   },
   "file_extension": ".py",
   "mimetype": "text/x-python",
   "name": "python",
   "nbconvert_exporter": "python",
   "pygments_lexer": "ipython3",
   "version": "3.7.3"
  }
 },
 "nbformat": 4,
 "nbformat_minor": 2
}
